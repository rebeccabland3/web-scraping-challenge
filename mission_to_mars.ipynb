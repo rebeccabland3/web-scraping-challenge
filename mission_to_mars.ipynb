{
 "cells": [
  {
   "cell_type": "code",
   "execution_count": 29,
   "metadata": {},
   "outputs": [],
   "source": [
    "# Import Splinter, BeautifulSoup, and Pandas\n",
    "from splinter import Browser\n",
    "from bs4 import BeautifulSoup\n",
    "from webdriver_manager.chrome import ChromeDriverManager\n",
    "import pymongo\n",
    "import pandas as pd\n",
    "import requests"
   ]
  },
  {
   "cell_type": "code",
   "execution_count": 3,
   "metadata": {},
   "outputs": [
    {
     "name": "stderr",
     "output_type": "stream",
     "text": [
      "[WDM] - ====== WebDriver manager ======\n",
      "[WDM] - Current google-chrome version is 89.0.4389\n",
      "[WDM] - Get LATEST driver version for 89.0.4389\n"
     ]
    },
    {
     "name": "stdout",
     "output_type": "stream",
     "text": [
      "\n",
      "\n"
     ]
    },
    {
     "name": "stderr",
     "output_type": "stream",
     "text": [
      "[WDM] - Get LATEST driver version for 89.0.4389\n",
      "[WDM] - Trying to download new driver from https://chromedriver.storage.googleapis.com/89.0.4389.23/chromedriver_mac64.zip\n",
      "[WDM] - Driver has been saved in cache [/Users/beckybland/.wdm/drivers/chromedriver/mac64/89.0.4389.23]\n"
     ]
    }
   ],
   "source": [
    "# Set the executable path and initialize the chrome browser in splinter\n",
    "executable_path = {'executable_path': ChromeDriverManager().install()}\n",
    "browser = Browser('chrome', **executable_path, headless=False)"
   ]
  },
  {
   "cell_type": "markdown",
   "metadata": {},
   "source": [
    "## Visit the NASA mars news site"
   ]
  },
  {
   "cell_type": "code",
   "execution_count": 4,
   "metadata": {},
   "outputs": [],
   "source": [
    "# Visit the mars nasa news site\n",
    "url = 'https://mars.nasa.gov/news/8888/new-study-challenges-long-held-theory-of-fate-of-mars-water/'\n",
    "browser.visit(url)"
   ]
  },
  {
   "cell_type": "code",
   "execution_count": 5,
   "metadata": {},
   "outputs": [
    {
     "data": {
      "text/plain": [
       "'\\n\\n\\n\\n\\n\\n\\n\\n\\n\\n\\n\\n\\n\\n\\nNew Study Challenges Long-Held Theory of Fate of Mars\\' Water – NASA’s Mars Exploration Program \\n\\n\\n\\n\\n\\n\\n\\n\\n\\n\\n\\n\\n\\n\\n\\n\\n\\n\\n\\n\\n\\n\\n\\n\\n\\n\\n\\n\\n\\n\\n\\n\\n\\n\\n\\n\\n\\n\\n\\n\\n\\n\\n\\n\\n\\n\\n\\n\\n\\n\\n\\n\\n\\n\\n\\n\\n\\n\\n\\n\\n\\n\\n\\n\\n\\n\\n\\n\\n\\n\\n\\n\\nNASA\\n\\n\\nNASA Science\\nMars Exploration Program\\n\\n\\n\\nSkip Navigation\\n\\n\\n\\nmenu\\n\\n\\n\\n\\n\\n\\n\\nMars NowMars NowView the current location and spacecraft communications activity of operating landers, rovers and orbiters using the NASA’s Mars Relay Network.GOMars NowView a 3D visualization of all the missions exploring the Red PlanetThe Red PlanetDashboardScience GoalsThe PlanetAtmosphereAstrobiologyPast, Present, Future, TimelineDashboardScience GoalsThe PlanetAtmosphereAstrobiologyPast, Present, Future, TimelineThe ProgramMission StatementAbout the ProgramOrganizationWhy Mars?Research ProgramsPlanetary ResourcesTechnologiesMission StatementAbout the ProgramOrganizationWhy Mars?Research ProgramsPlanetary ResourcesTechnologiesNews & EventsNewsEventsNewsEventsMultimediaImagesVideosAudioMore ResourcesImagesVideosAudioMore ResourcesMissionsPastPresentFutureInternational PartnersPastPresentFutureInternational PartnersActive & Future MissionsA mission to investigate key questions about potential life on Mars. Mars 2020 Perseverance RoverThe largest and most capable rover ever sent to Mars.Curiosity RoverA mission to study the deep interior of Mars. InSight LanderMeasures Mars\\' atmosphere to understand its climate change.MAVENTakes high-resolution imagery of Martian terrain with extraordinary clarity. Mars Reconnaissance OrbiterNASA\\'s longest-lasting spacecraft at Mars. 2001 Mars OdysseyAll MissionsInternational PartnersMore\\n\\n\\n\\n\\n\\n\\n\\n\\n\\n\\nSol 3056-3057: Perched on top…Sol 3060: The Vastness of Time\\n\\n\\n\\n\\n\\n\\nNEWS\\n\\n| March 16, 2021\\n\\n\\n\\nNew Study Challenges Long-Held Theory of Fate of Mars\\' Water\\n\\n\\n\\n\\n\\n\\nGlobal View of Mars From Viking Orbiter: This global view of Mars is composed of about 100 Viking Orbiter images. Credits: NASA/JPL-Caltech/USGS. Download image ›\\n\\n\\n\\n\\nThe new science results indicate that a large quantity of the Red Planet’s water is trapped in its crust rather than having escaped into space.\\n\\nBillions of years ago, according to geological evidence, abundant water flowed across Mars and collected into pools, lakes, and deep oceans. New NASA-funded research shows a substantial quantity of its water – between 30 and 99% – is trapped within minerals in the planet’s crust, challenging the current theory that due to the Red Planet’s low gravity, its water escaped into space.\\nEarly Mars was thought to have enough water to have covered the whole planet in an ocean roughly 100 to 1,500 meters (330 to 4,920 feet) deep – a volume roughly equivalent to half of Earth’s Atlantic Ocean. While some of this water undeniably disappeared from Mars via atmospheric escape, the new findings, published in the latest issue of Science, conclude it does not account for most of its water loss.\\nThe results were presented at the 52nd Lunar and Planetary Science Conference (LPSC) by lead author and Caltech Ph.D. candidate Eva Scheller along with co-authors Bethany Ehlmann, professor of planetary science at Caltech and associate director for the Keck Institute for Space Studies; Yuk Yung, professor of planetary science at Caltech and senior research scientist at NASA’s Jet Propulsion Laboratory; Danica Adams, Caltech graduate student; and Renyu Hu, JPL research scientist.\\n“Atmospheric escape doesn’t fully explain the data that we have for how much water actually once existed on Mars,” said Scheller.\\nUsing a wealth of cross-mission data archived in NASA’s Planetary Data System (PDS), the research team integrated data from multiple NASA Mars Exploration Program missions and meteorite lab work. Specifically, the team studied the quantity of water on the Red Planet over time in all its forms (vapor, liquid, and ice) and the chemical composition of the planet’s current atmosphere and crust, looking in particular at the ratio of deuterium to hydrogen (D/H).\\nWhile water is made up of hydrogen and oxygen, not all hydrogen atoms are created equal. The vast majority of hydrogen atoms have just one proton within the atomic nucleus, while a tiny fraction (about 0.02%) exists as deuterium, or so-called “heavy” hydrogen, which has a proton and a neutron. The lighter-weight hydrogen escapes the planet’s gravity into space much easier than its denser counterpart. Because of this, the loss of a planet’s water via the upper atmosphere would leave a revealing sign on the ratio of deuterium to hydrogen in the planet’s atmosphere: There would be a very large amount of deuterium left behind.\\nHowever, the loss of water solely through the atmosphere cannot explain both the observed deuterium-to-hydrogen signal in the Martian atmosphere and large amounts of water in the past. Instead, the study proposes that a combination of two mechanisms – the trapping of water in minerals in the planet’s crust and the loss of water to the atmosphere – can explain the observed deuterium-to-hydrogen signal within the Martian atmosphere.  \\nWhen water interacts with rock, chemical weathering forms clays and other hydrous minerals that contain water as part of their mineral structure. This process occurs on Earth as well as on Mars. On Earth, old crust continually melts into the mantle and forms new crust at plate boundaries, recycling water and other molecules back into the atmosphere through volcanism. Mars, however, has no tectonic plates, and so the “drying” of the surface, once it occurs, is permanent.\\n“The hydrated materials on our own planet are being continually recycled through plate tectonics,” said Michael Meyer, lead scientist for NASA’s Mars Exploration Program at the agency’s headquarters in Washington. “Because we have measurements from multiple spacecraft, we can see that Mars doesn’t recycle, and so water is now locked up in the crust or been lost to space.”\\nA key objective of NASA’s Mars 2020 Perseverance rover mission on Mars is astrobiology, including the search for signs of ancient microbial life. The rover will characterize the planet’s geology and past climate, pave the way for human exploration of the Red Planet, and be the first mission to collect and cache Martian rock and regolith (broken rock and dust). Scheller and Ehlmann will aid in operations by the Perseverance rover to collect these samples that will be returned to Earth through the Mars Sample Return program, which will allow the highly-anticipated further examination of these hypotheses about the drivers of Mars climate change. Understanding the evolution of the Martian environment is important context for understanding results from analyses of the returned samples as well as understanding how habitability changes over time on rocky planets.\\nThe research and findings outlined in the paper highlight the significant contributions of early career scientists in expanding our understanding of the solar system. Similarly, the research, which relied on data from meteorites, telescopes, satellite observations, and samples analyzed by rovers on Mars, illustrates the importance of having multiple ways of probing the Red Planet.\\nThis work was supported by a NASA Habitable Worlds award, a NASA Earth and Space Science Fellowship (NESSF) award, and a NASA Future Investigator in NASA Earth and Space Science and Technology (FINESST) award.\\nNews Media Contacts\\nGrey Hautaluoma / Alana Johnson\\nNASA Headquarters, Washington\\n202-358-0668 / 202-358-1501\\ngrey.hautaluoma-1@nasa.gov / alana.r.johnson@nasa.gov\\nAndrew Good\\nJet Propulsion Laboratory, Pasadena, Calif.\\n818-393-2433\\nandrew.c.good@jpl.nasa.gov\\n\\n\\n\\n\\n\\n\\nRelated images and videos\\n\\n\\n\\n\\n\\n\\n\\n\\n\\n\\n\\nPerseverance Rover Drops its Debris Shield\\n\\n\\n\\n\\n\\n\\n\\n\\n\\n\\n\\n\\n\\nThe Wright Brothers \\n\\n\\n\\n\\n\\n\\n\\n\\n\\n\\n\\n\\n\\nMap of Ingenuity Helicopter Flight Zone\\n\\n\\n\\n\\n\\n\\n› more images\\n\\n› more videos\\n\\n\\n\\n\\n\\n[166, 165, 175, 180]\\n\\n\\n\\n\\n\\nYou Might Also Like\\n\\n\\n\\n\\n\\n\\n\\n\\n\\nData from the powerful science tool includes sounds of its laser zapping a rock in order to test what it’s made of.\\n\\n\\n\\n\\n\\n\\n\\n\\n\\n\\nPerseverance Rover\\'s SuperCam Science Instrument Delivers First Results\\n\\n\\n\\n[166, 165, 175, 180]\\n\\n\\n\\n\\n\\n\\nThere is a lot to be looking out for at Curiosity’s current parking position.\\n\\n\\n\\n\\n\\n\\n\\n\\n\\n\\nSol 3056-3057: Perched on top…\\n\\n\\n\\n[176, 175, 185]\\n\\n\\n\\n\\n\\n\\nCuriosity is ready to go ahead with the first drill of 2021!\\n\\n\\n\\n\\n\\n\\n\\n\\n\\n\\nSols 3054-3055: Ready to Drill\\n\\n\\n\\n[176, 175, 185]\\n\\n\\n\\n\\n\\n\\nNow uncocooned from its protective carbon-fiber shield, the helicopter is being readied for its next steps.  \\n\\n\\n\\n\\n\\n\\n\\n\\n\\n\\nNASA Ingenuity Mars Helicopter Prepares for First Flight\\n\\n\\n\\n[175, 180, 19]\\n\\n\\n\\n\\n\\n\\nCuriosity is still parked in front of the magnificent \"Mont Mercou\" cliff face as we continue to work through analyses of the \"Nontron drill site. \\n\\n\\n\\n\\n\\n\\n\\n\\n\\n\\nSol 3067: Super-Resolution and Another SAM Analysis\\n\\n\\n\\n[176, 175, 185]\\n\\n\\n\\n\\n\\n\\nTwo main activities will dominate the plan this weekend as we near the end of the “Nontron” drill campaign. \\n\\n\\n\\n\\n\\n\\n\\n\\n\\n\\nSols 3064-3066: Exhaustion? Only the Portion(s)\\n\\n\\n\\n[176, 175, 185]\\n\\n\\n\\n\\n\\n\\nGeology photographers want to see all of the bumps, lines, divots and wrinkles, as those features tell the story of how a rock was formed and altered. \\n\\n\\n\\n\\n\\n\\n\\n\\n\\n\\nSols 3062-3063: Adjusting the Lighting on \\'Mont Mercou\\' \\n\\n\\n\\n[176, 175, 185]\\n\\n\\n\\n\\n\\n\\nMembers of the projects will lay out the steps necessary before the helicopter attempts its historic test flights. \\n\\n\\n\\n\\n\\n\\n\\n\\n\\n\\nNASA to Host Briefing to Preview First Mars Helicopter Flights\\n\\n\\n\\n[165, 175, 180]\\n\\n\\n\\n\\n\\n\\nNASA’s newest rover recorded audio of itself crunching over the surface of the Red Planet, adding a whole new dimension to Mars exploration.\\n\\n\\n\\n\\n\\n\\n\\n\\n\\n\\nAnother First: Perseverance Captures the Sounds of Driving on Mars\\n\\n\\n\\n[165, 175, 180]\\n\\n\\n\\n\\n\\n\\nWith the drill campaign well under way, we get to take in all the vistas of the magnificent landscape around us. \\n\\n\\n\\n\\n\\n\\n\\n\\n\\n\\nSol 3061: The Fascination of Hilly Landscapes\\n\\n\\n\\n[176, 175, 185]\\n\\n\\n\\n\\n\\n\\nHumans minds don’t easily comprehend the vast eons of time that separate us from the places we explore in space with robots like Curiosity.\\n\\n\\n\\n\\n\\n\\n\\n\\n\\n\\nSol 3060: The Vastness of Time\\n\\n\\n\\n[176, 175, 185]\\n\\n\\n\\n\\n\\n\\nWorking with the Navajo Nation, the rover team has named features on Mars with words from the Navajo language.\\n\\n\\n\\n\\n\\n\\n\\n\\n\\n\\nNASA\\'s Perseverance Mars Rover Mission Honors Navajo Language\\n\\n\\n\\n[165, 175, 180]\\n\\n\\n\\n\\n\\n\\nData from the powerful science tool includes sounds of its laser zapping a rock in order to test what it’s made of.\\n\\n\\n\\n\\n\\n\\n\\n\\n\\n\\nPerseverance Rover\\'s SuperCam Science Instrument Delivers First Results\\n\\n\\n\\n[166, 165, 175, 180]\\n\\n\\n\\n\\n\\n\\nThere is a lot to be looking out for at Curiosity’s current parking position.\\n\\n\\n\\n\\n\\n\\n\\n\\n\\n\\nSol 3056-3057: Perched on top…\\n\\n\\n\\n[176, 175, 185]\\n\\n\\n\\n\\n\\n\\nCuriosity is ready to go ahead with the first drill of 2021!\\n\\n\\n\\n\\n\\n\\n\\n\\n\\n\\nSols 3054-3055: Ready to Drill\\n\\n\\n\\n[176, 175, 185]\\n\\n\\n\\n\\n\\n\\nNow uncocooned from its protective carbon-fiber shield, the helicopter is being readied for its next steps.  \\n\\n\\n\\n\\n\\n\\n\\n\\n\\n\\nNASA Ingenuity Mars Helicopter Prepares for First Flight\\n\\n\\n\\n[175, 180, 19]\\n\\n\\n\\n\\n\\n\\nCuriosity is still parked in front of the magnificent \"Mont Mercou\" cliff face as we continue to work through analyses of the \"Nontron drill site. \\n\\n\\n\\n\\n\\n\\n\\n\\n\\n\\nSol 3067: Super-Resolution and Another SAM Analysis\\n\\n\\n\\n[176, 175, 185]\\n\\n\\n\\n\\n\\n\\nTwo main activities will dominate the plan this weekend as we near the end of the “Nontron” drill campaign. \\n\\n\\n\\n\\n\\n\\n\\n\\n\\n\\nSols 3064-3066: Exhaustion? Only the Portion(s)\\n\\n\\n\\n[176, 175, 185]\\n\\n\\n\\n\\nPreviousNext\\n\\n\\n\\n\\n\\n\\n\\n\\n\\n\\n\\n\\nGet the Mars Newsletter\\n\\n\\n\\n\\n\\n\\nFollow the Journey\\n\\n\\n\\n\\nTwitter\\n\\nFacebook\\n\\nInstagram\\n\\nRSS\\n\\n\\n\\n\\n\\n\\n\\n\\n\\n\\n\\nThe Red Planet\\n\\n\\n\\n\\n\\nDashboard\\n\\n\\nScience Goals\\n\\n\\nThe Planet\\n\\n\\nAtmosphere\\n\\n\\nAstrobiology\\n\\n\\nPast, Present, Future, Timeline\\n\\n\\n\\n\\n\\n\\n\\n\\n\\nThe Program\\n\\n\\n\\n\\n\\nMission Statement\\n\\n\\nAbout the Program\\n\\n\\nOrganization\\n\\n\\nWhy Mars?\\n\\n\\nResearch Programs\\n\\n\\nPlanetary Resources\\n\\n\\nTechnologies\\n\\n\\n\\n\\n\\n\\n\\n\\n\\nNews & Events\\n\\n\\n\\n\\n\\nNews\\n\\n\\nEvents\\n\\n\\n\\n\\n\\n\\n\\n\\n\\nMultimedia\\n\\n\\n\\n\\n\\nImages\\n\\n\\nVideos\\n\\n\\nAudio\\n\\n\\nMore Resources\\n\\n\\n\\n\\n\\n\\n\\n\\n\\nMissions\\n\\n\\n\\n\\n\\nPast\\n\\n\\nPresent\\n\\n\\nFuture\\n\\n\\nInternational Partners\\n\\n\\n\\n\\n\\n\\n\\n\\n\\nMore\\n\\n\\n\\n\\n\\n\\n\\n\\n\\n\\n\\n\\n\\n\\n\\n\\n\\nNASA Science Mission Directorate\\n\\n\\nPrivacy\\n\\n\\nImage Policy\\n\\n\\nFeedback\\n\\n\\n\\n\\n\\n\\nManaged by the Mars Exploration Program and the Jet Propulsion Laboratory for NASA’s Science Mission Directorate\\n\\n\\n\\n\\n\\n\\n\\n\\n\\n\\n\\n\\n\\n\\n\\n\\n\\n\\n\\n\\n\\n\\n\\n\\n\\n\\nAddThis Sharing SidebarShare to FacebookFacebookShare to TwitterTwitterShare to RedditRedditShare to EmailEmailMore AddThis Share optionsAddThis156SHARESHideShowCloseAddThisAddThis SharingSHARESFacebookTwitterRedditEmailAddThis'"
      ]
     },
     "execution_count": 5,
     "metadata": {},
     "output_type": "execute_result"
    }
   ],
   "source": [
    "# Convert the browser html to a soup object and then quit the browser\n",
    "html = browser.html\n",
    "#html\n",
    "soup = BeautifulSoup(html, 'html.parser')\n",
    "soup.text"
   ]
  },
  {
   "cell_type": "code",
   "execution_count": 6,
   "metadata": {},
   "outputs": [
    {
     "data": {
      "text/plain": [
       "\"New Study Challenges Long-Held Theory of Fate of Mars' Water\""
      ]
     },
     "execution_count": 6,
     "metadata": {},
     "output_type": "execute_result"
    }
   ],
   "source": [
    "# .find() the content title and save it as `news_title`\n",
    "news_title = soup.find('h1', class_='article_title').text.strip()\n",
    "news_title"
   ]
  },
  {
   "cell_type": "code",
   "execution_count": 7,
   "metadata": {},
   "outputs": [
    {
     "data": {
      "text/plain": [
       "'The new science results indicate that a large quantity of the Red Planet’s water is trapped in its crust rather than having escaped into space.\\n\\nBillions of years ago, according to geological evidence, abundant water flowed across Mars and collected into pools, lakes, and deep oceans. New NASA-funded research shows a substantial quantity of its water – between 30 and 99% – is trapped within minerals in the planet’s crust, challenging the current theory that due to the Red Planet’s low gravity, its water escaped into space.\\nEarly Mars was thought to have enough water to have covered the whole planet in an ocean roughly 100 to 1,500 meters (330 to 4,920 feet) deep – a volume roughly equivalent to half of Earth’s Atlantic Ocean. While some of this water undeniably disappeared from Mars via atmospheric escape, the new findings, published in the latest issue of Science, conclude it does not account for most of its water loss.\\nThe results were presented at the 52nd Lunar and Planetary Science Conference (LPSC) by lead author and Caltech Ph.D. candidate Eva Scheller along with co-authors Bethany Ehlmann, professor of planetary science at Caltech and associate director for the Keck Institute for Space Studies; Yuk Yung, professor of planetary science at Caltech and senior research scientist at NASA’s Jet Propulsion Laboratory; Danica Adams, Caltech graduate student; and Renyu Hu, JPL research scientist.\\n“Atmospheric escape doesn’t fully explain the data that we have for how much water actually once existed on Mars,” said Scheller.\\nUsing a wealth of cross-mission data archived in NASA’s Planetary Data System (PDS), the research team integrated data from multiple NASA Mars Exploration Program missions and meteorite lab work. Specifically, the team studied the quantity of water on the Red Planet over time in all its forms (vapor, liquid, and ice) and the chemical composition of the planet’s current atmosphere and crust, looking in particular at the ratio of deuterium to hydrogen (D/H).\\nWhile water is made up of hydrogen and oxygen, not all hydrogen atoms are created equal. The vast majority of hydrogen atoms have just one proton within the atomic nucleus, while a tiny fraction (about 0.02%) exists as deuterium, or so-called “heavy” hydrogen, which has a proton and a neutron. The lighter-weight hydrogen escapes the planet’s gravity into space much easier than its denser counterpart. Because of this, the loss of a planet’s water via the upper atmosphere would leave a revealing sign on the ratio of deuterium to hydrogen in the planet’s atmosphere: There would be a very large amount of deuterium left behind.\\nHowever, the loss of water solely through the atmosphere cannot explain both the observed deuterium-to-hydrogen signal in the Martian atmosphere and large amounts of water in the past. Instead, the study proposes that a combination of two mechanisms – the trapping of water in minerals in the planet’s crust and the loss of water to the atmosphere – can explain the observed deuterium-to-hydrogen signal within the Martian atmosphere.  \\nWhen water interacts with rock, chemical weathering forms clays and other hydrous minerals that contain water as part of their mineral structure. This process occurs on Earth as well as on Mars. On Earth, old crust continually melts into the mantle and forms new crust at plate boundaries, recycling water and other molecules back into the atmosphere through volcanism. Mars, however, has no tectonic plates, and so the “drying” of the surface, once it occurs, is permanent.\\n“The hydrated materials on our own planet are being continually recycled through plate tectonics,” said Michael Meyer, lead scientist for NASA’s Mars Exploration Program at the agency’s headquarters in Washington. “Because we have measurements from multiple spacecraft, we can see that Mars doesn’t recycle, and so water is now locked up in the crust or been lost to space.”\\nA key objective of NASA’s Mars 2020 Perseverance rover mission on Mars is astrobiology, including the search for signs of ancient microbial life. The rover will characterize the planet’s geology and past climate, pave the way for human exploration of the Red Planet, and be the first mission to collect and cache Martian rock and regolith (broken rock and dust). Scheller and Ehlmann will aid in operations by the Perseverance rover to collect these samples that will be returned to Earth through the Mars Sample Return program, which will allow the highly-anticipated further examination of these hypotheses about the drivers of Mars climate change. Understanding the evolution of the Martian environment is important context for understanding results from analyses of the returned samples as well as understanding how habitability changes over time on rocky planets.\\nThe research and findings outlined in the paper highlight the significant contributions of early career scientists in expanding our understanding of the solar system. Similarly, the research, which relied on data from meteorites, telescopes, satellite observations, and samples analyzed by rovers on Mars, illustrates the importance of having multiple ways of probing the Red Planet.\\nThis work was supported by a NASA Habitable Worlds award, a NASA Earth and Space Science Fellowship (NESSF) award, and a NASA Future Investigator in NASA Earth and Space Science and Technology (FINESST) award.\\nNews Media Contacts\\nGrey Hautaluoma / Alana Johnson\\nNASA Headquarters, Washington\\n202-358-0668 / 202-358-1501\\ngrey.hautaluoma-1@nasa.gov / alana.r.johnson@nasa.gov\\nAndrew Good\\nJet Propulsion Laboratory, Pasadena, Calif.\\n818-393-2433\\nandrew.c.good@jpl.nasa.gov'"
      ]
     },
     "execution_count": 7,
     "metadata": {},
     "output_type": "execute_result"
    }
   ],
   "source": [
    "# .find() the paragraph text\n",
    "p_text = soup.find('div', class_='wysiwyg_content').text.strip()\n",
    "p_text"
   ]
  },
  {
   "cell_type": "code",
   "execution_count": 42,
   "metadata": {},
   "outputs": [],
   "source": [
    "# for h1 in soup.find('h1', class_='article_title'):\n",
    "#     if div.a is not None and div.a.text:\n",
    "#         titles.append(div.a.text)"
   ]
  },
  {
   "cell_type": "code",
   "execution_count": 41,
   "metadata": {},
   "outputs": [],
   "source": [
    "titles = []\n",
    "for div in soup.find_all('div', class_='content_title'):\n",
    "    if div.a is not None and div.a.text:\n",
    "        titles.append(div.a.text)\n",
    "titles"
   ]
  },
  {
   "cell_type": "markdown",
   "metadata": {},
   "source": [
    "## JPL Space Images Featured Image"
   ]
  },
  {
   "cell_type": "code",
   "execution_count": 9,
   "metadata": {},
   "outputs": [],
   "source": [
    "# Visit JPL space images Mars URL \n",
    "# https://data-class-jpl-space.s3.amazonaws.com/JPL_Space/index.html"
   ]
  },
  {
   "cell_type": "code",
   "execution_count": 8,
   "metadata": {},
   "outputs": [],
   "source": [
    "# Find and click the full image button\n",
    "# https://data-class-jpl-space.s3.amazonaws.com/JPL_Space/index.html\n",
    "url2 = 'https://data-class-jpl-space.s3.amazonaws.com/JPL_Space/index.html'\n",
    "browser.visit(url2)"
   ]
  },
  {
   "cell_type": "code",
   "execution_count": 9,
   "metadata": {},
   "outputs": [
    {
     "data": {
      "text/plain": [
       "'\\n\\n\\n\\n\\n\\n\\nSpace Image\\n\\n\\n\\n\\nJet Propulsion Laboratory\\nCalifornia Institute of Technology\\n\\n\\n\\n\\n\\n\\n \\xa0\\xa0MENU \\xa0\\xa0\\n\\n\\n\\n\\n\\nFEATURED IMAGE\\nDusty Space Cloud\\n\\n  FULL IMAGE\\n\\n\\n\\n\\n\\n\\n\\n\\n\\n\\nMars\\n\\nSun\\nEarth\\nIda\\nJupiter\\nVenus\\n\\n\\n\\n\\n\\n\\n\\n\\n\\nImages\\n\\n\\n\\n\\n\\n\\n\\n\\n\\nJanuary 1, 2020Icaria Fossae7December 31, 2020Proctor Crater DunesDecember 31, 2020Icaria FossaeDecember 29, 2020Proctor Crater DunesDecember 28, 2020roctor Crater DunesDecember 22, 2020Icaria FossaeDecember 21, 2020Icaria FossaeDecember 18, 2020Ariadnes CollesDecember 17, 2020Niger VallisDecember 16, 2020Proctor Crater DunesDecember 15, 2020Niger VallisDecember 11, 2020Daedalia PlanumNovember,11, 2020Sirenum FossaeNovember,13, 2020Ariadnes CollesNovember,14, 2020South Polar CapNovember,17, 2020Daedalia PlanumNovember,11, 2020Ariadnes CollesNovember,09, 2020Atlantis ChaosJanuary 1, 2020Daedalia PlanumJanuary 1, 2020Icaria FossaeJanuary 1, 2020Niger VallisJanuary 1, 2020Proctor Crater DunesJanuary 1, 2020Reull VallisJanuary 1, 2020Ariadnes CollesJanuary 1, 2020Sirenum FossaeJanuary 1, 2020South Polar CapJanuary 1, 2020Niger VallisJanuary 1, 2020Daedalia PlanumJanuary 1, 2020Icaria FossaeJanuary 1, 2020Ariadnes CollesJanuary 1, 2020South Polar CapJanuary 1, 2020Daedalia Planum\\n\\n\\n\\n\\n\\n\\n\\n\\n\\n\\n\\n\\n\\n\\n\\n\\n\\n\\n\\n\\n\\n\\n\\n\\n\\n\\n\\nJPL Photojournal\\nAccess to the full library of publicly released images from various Solar System exploration programs\\n\\n\\n\\n\\n\\n\\n\\nGreat images in NASA\\nA selection of the best-known images from a half-century of exploration and discovery\\n\\n\\n\\n\\n\\n\\n\\n\\nYou Might Also Like\\n\\n\\n\\n\\n\\n\\nAccess to the full library of publicly released images from various Solar System exploration programs\\n\\n\\n\\n\\n\\n\\n\\nAccess to the full library of publicly released images from various Solar System exploration programs\\n\\n\\n\\n\\n\\n\\n\\nAccess to the full library of publicly released images from various Solar System exploration programs\\n\\n\\n\\n\\n\\n\\n\\n\\n\\n\\n\\n\\nAbout JPL\\n\\nAbout JPL\\nJPL Vision\\nExecutive Council\\nHistory\\n\\n\\n\\nEducation\\n\\nIntern\\nLearn\\nTeach\\nNews\\n\\n\\n\\nOur Sites\\n\\nAsteroid Watch\\nBasics of Spaceflight\\nCassini - Mission to Saturn\\nClimate Kids\\n\\n\\n\\nGalleries\\n\\nJPL Space Images\\nVideos\\nInfographics\\nPhotojournal\\n\\n\\n\\n\\n\\n\\n\\n\\n\\n\\n\\n\\n\\n\\n\\n\\n\\n\\n'"
      ]
     },
     "execution_count": 9,
     "metadata": {},
     "output_type": "execute_result"
    }
   ],
   "source": [
    "# Convert the browser html to a soup object and then quit the browser\n",
    "html2 = browser.html\n",
    "#html\n",
    "soup2 = BeautifulSoup(html2, 'html.parser')\n",
    "soup2.text"
   ]
  },
  {
   "cell_type": "code",
   "execution_count": 10,
   "metadata": {},
   "outputs": [],
   "source": [
    "# Find the more info button and click that\n",
    "soup2.find_all('button')[1]\n",
    "browser.find_by_tag('button')[1].click()"
   ]
  },
  {
   "cell_type": "code",
   "execution_count": 11,
   "metadata": {},
   "outputs": [
    {
     "data": {
      "text/plain": [
       "'\\n\\n\\n\\n\\n\\n\\nSpace Image\\n\\n\\n\\n\\nJet Propulsion Laboratory\\nCalifornia Institute of Technology\\n\\n\\n\\n\\n\\n\\n \\xa0\\xa0MENU \\xa0\\xa0\\n\\n\\n\\n\\n\\nFEATURED IMAGE\\nDusty Space Cloud\\n\\n  FULL IMAGE\\n\\n\\n\\n\\n\\n\\n\\n\\n\\n\\nMars\\n\\nSun\\nEarth\\nIda\\nJupiter\\nVenus\\n\\n\\n\\n\\n\\n\\n\\n\\n\\nImages\\n\\n\\n\\n\\n\\n\\n\\n\\n\\nJanuary 1, 2020Icaria Fossae7December 31, 2020Proctor Crater DunesDecember 31, 2020Icaria FossaeDecember 29, 2020Proctor Crater DunesDecember 28, 2020roctor Crater DunesDecember 22, 2020Icaria FossaeDecember 21, 2020Icaria FossaeDecember 18, 2020Ariadnes CollesDecember 17, 2020Niger VallisDecember 16, 2020Proctor Crater DunesDecember 15, 2020Niger VallisDecember 11, 2020Daedalia PlanumNovember,11, 2020Sirenum FossaeNovember,13, 2020Ariadnes CollesNovember,14, 2020South Polar CapNovember,17, 2020Daedalia PlanumNovember,11, 2020Ariadnes CollesNovember,09, 2020Atlantis ChaosJanuary 1, 2020Daedalia PlanumJanuary 1, 2020Icaria FossaeJanuary 1, 2020Niger VallisJanuary 1, 2020Proctor Crater DunesJanuary 1, 2020Reull VallisJanuary 1, 2020Ariadnes CollesJanuary 1, 2020Sirenum FossaeJanuary 1, 2020South Polar CapJanuary 1, 2020Niger VallisJanuary 1, 2020Daedalia PlanumJanuary 1, 2020Icaria FossaeJanuary 1, 2020Ariadnes CollesJanuary 1, 2020South Polar CapJanuary 1, 2020Daedalia Planum\\n\\n\\n\\n\\n\\n\\n\\n\\n\\n\\n\\n\\n\\n\\n\\n\\n\\n\\n\\n\\n\\n\\n\\n\\n\\n\\n\\nJPL Photojournal\\nAccess to the full library of publicly released images from various Solar System exploration programs\\n\\n\\n\\n\\n\\n\\n\\nGreat images in NASA\\nA selection of the best-known images from a half-century of exploration and discovery\\n\\n\\n\\n\\n\\n\\n\\n\\nYou Might Also Like\\n\\n\\n\\n\\n\\n\\nAccess to the full library of publicly released images from various Solar System exploration programs\\n\\n\\n\\n\\n\\n\\n\\nAccess to the full library of publicly released images from various Solar System exploration programs\\n\\n\\n\\n\\n\\n\\n\\nAccess to the full library of publicly released images from various Solar System exploration programs\\n\\n\\n\\n\\n\\n\\n\\n\\n\\n\\n\\n\\nAbout JPL\\n\\nAbout JPL\\nJPL Vision\\nExecutive Council\\nHistory\\n\\n\\n\\nEducation\\n\\nIntern\\nLearn\\nTeach\\nNews\\n\\n\\n\\nOur Sites\\n\\nAsteroid Watch\\nBasics of Spaceflight\\nCassini - Mission to Saturn\\nClimate Kids\\n\\n\\n\\nGalleries\\n\\nJPL Space Images\\nVideos\\nInfographics\\nPhotojournal\\n\\n\\n\\n\\n\\n\\n\\n\\n\\n\\n\\n\\n\\n\\n\\n\\n\\n\\n'"
      ]
     },
     "execution_count": 11,
     "metadata": {},
     "output_type": "execute_result"
    }
   ],
   "source": [
    "# Parse the resulting html with soup\n",
    "html3 = browser.html\n",
    "#html\n",
    "soup3 = BeautifulSoup(html3, 'html.parser')\n",
    "soup3.text"
   ]
  },
  {
   "cell_type": "code",
   "execution_count": 12,
   "metadata": {},
   "outputs": [],
   "source": [
    "image = soup3.find('img', class_=\"fancybox-image\")['src']"
   ]
  },
  {
   "cell_type": "code",
   "execution_count": 13,
   "metadata": {},
   "outputs": [
    {
     "data": {
      "text/plain": [
       "'https://data-class-jpl-space.s3.amazonaws.com/JPL_Space/image/featured/mars1.jpg'"
      ]
     },
     "execution_count": 13,
     "metadata": {},
     "output_type": "execute_result"
    }
   ],
   "source": [
    "# find the relative image url\n",
    "# Use the base url to create an absolute url\n",
    "featured_image_url = f'https://data-class-jpl-space.s3.amazonaws.com/JPL_Space/{image}'\n",
    "featured_image_url"
   ]
  },
  {
   "cell_type": "markdown",
   "metadata": {},
   "source": [
    "## Mars Facts"
   ]
  },
  {
   "cell_type": "code",
   "execution_count": 17,
   "metadata": {},
   "outputs": [
    {
     "data": {
      "text/plain": [
       "[                      0                              1\n",
       " 0  Equatorial Diameter:                       6,792 km\n",
       " 1       Polar Diameter:                       6,752 km\n",
       " 2                 Mass:  6.39 × 10^23 kg (0.11 Earths)\n",
       " 3                Moons:            2 (Phobos & Deimos)\n",
       " 4       Orbit Distance:       227,943,824 km (1.38 AU)\n",
       " 5         Orbit Period:           687 days (1.9 years)\n",
       " 6  Surface Temperature:                   -87 to -5 °C\n",
       " 7         First Record:              2nd millennium BC\n",
       " 8          Recorded By:           Egyptian astronomers,\n",
       "   Mars - Earth Comparison             Mars            Earth\n",
       " 0               Diameter:         6,779 km        12,742 km\n",
       " 1                   Mass:  6.39 × 10^23 kg  5.97 × 10^24 kg\n",
       " 2                  Moons:                2                1\n",
       " 3      Distance from Sun:   227,943,824 km   149,598,262 km\n",
       " 4         Length of Year:   687 Earth days      365.24 days\n",
       " 5            Temperature:     -87 to -5 °C      -88 to 58°C,\n",
       "                       0                              1\n",
       " 0  Equatorial Diameter:                       6,792 km\n",
       " 1       Polar Diameter:                       6,752 km\n",
       " 2                 Mass:  6.39 × 10^23 kg (0.11 Earths)\n",
       " 3                Moons:            2 (Phobos & Deimos)\n",
       " 4       Orbit Distance:       227,943,824 km (1.38 AU)\n",
       " 5         Orbit Period:           687 days (1.9 years)\n",
       " 6  Surface Temperature:                   -87 to -5 °C\n",
       " 7         First Record:              2nd millennium BC\n",
       " 8          Recorded By:           Egyptian astronomers]"
      ]
     },
     "execution_count": 17,
     "metadata": {},
     "output_type": "execute_result"
    }
   ],
   "source": [
    "# Create a dataframe from the space-facts.com mars page\n",
    "mars_url = 'https://space-facts.com/mars/'\n",
    "mars_table = pd.read_html(mars_url)\n",
    "mars_table"
   ]
  },
  {
   "cell_type": "code",
   "execution_count": 22,
   "metadata": {},
   "outputs": [
    {
     "data": {
      "text/html": [
       "<div>\n",
       "<style scoped>\n",
       "    .dataframe tbody tr th:only-of-type {\n",
       "        vertical-align: middle;\n",
       "    }\n",
       "\n",
       "    .dataframe tbody tr th {\n",
       "        vertical-align: top;\n",
       "    }\n",
       "\n",
       "    .dataframe thead th {\n",
       "        text-align: right;\n",
       "    }\n",
       "</style>\n",
       "<table border=\"1\" class=\"dataframe\">\n",
       "  <thead>\n",
       "    <tr style=\"text-align: right;\">\n",
       "      <th></th>\n",
       "      <th>0</th>\n",
       "      <th>1</th>\n",
       "    </tr>\n",
       "  </thead>\n",
       "  <tbody>\n",
       "    <tr>\n",
       "      <th>0</th>\n",
       "      <td>Equatorial Diameter:</td>\n",
       "      <td>6,792 km</td>\n",
       "    </tr>\n",
       "    <tr>\n",
       "      <th>1</th>\n",
       "      <td>Polar Diameter:</td>\n",
       "      <td>6,752 km</td>\n",
       "    </tr>\n",
       "    <tr>\n",
       "      <th>2</th>\n",
       "      <td>Mass:</td>\n",
       "      <td>6.39 × 10^23 kg (0.11 Earths)</td>\n",
       "    </tr>\n",
       "    <tr>\n",
       "      <th>3</th>\n",
       "      <td>Moons:</td>\n",
       "      <td>2 (Phobos &amp; Deimos)</td>\n",
       "    </tr>\n",
       "    <tr>\n",
       "      <th>4</th>\n",
       "      <td>Orbit Distance:</td>\n",
       "      <td>227,943,824 km (1.38 AU)</td>\n",
       "    </tr>\n",
       "    <tr>\n",
       "      <th>5</th>\n",
       "      <td>Orbit Period:</td>\n",
       "      <td>687 days (1.9 years)</td>\n",
       "    </tr>\n",
       "    <tr>\n",
       "      <th>6</th>\n",
       "      <td>Surface Temperature:</td>\n",
       "      <td>-87 to -5 °C</td>\n",
       "    </tr>\n",
       "    <tr>\n",
       "      <th>7</th>\n",
       "      <td>First Record:</td>\n",
       "      <td>2nd millennium BC</td>\n",
       "    </tr>\n",
       "    <tr>\n",
       "      <th>8</th>\n",
       "      <td>Recorded By:</td>\n",
       "      <td>Egyptian astronomers</td>\n",
       "    </tr>\n",
       "  </tbody>\n",
       "</table>\n",
       "</div>"
      ],
      "text/plain": [
       "                      0                              1\n",
       "0  Equatorial Diameter:                       6,792 km\n",
       "1       Polar Diameter:                       6,752 km\n",
       "2                 Mass:  6.39 × 10^23 kg (0.11 Earths)\n",
       "3                Moons:            2 (Phobos & Deimos)\n",
       "4       Orbit Distance:       227,943,824 km (1.38 AU)\n",
       "5         Orbit Period:           687 days (1.9 years)\n",
       "6  Surface Temperature:                   -87 to -5 °C\n",
       "7         First Record:              2nd millennium BC\n",
       "8          Recorded By:           Egyptian astronomers"
      ]
     },
     "execution_count": 22,
     "metadata": {},
     "output_type": "execute_result"
    }
   ],
   "source": [
    "# clean the dataframe and export to HTML\n",
    "#type(mars_table)\n",
    "mars_df = mars_table[0]\n",
    "mars_df"
   ]
  },
  {
   "cell_type": "code",
   "execution_count": 25,
   "metadata": {},
   "outputs": [
    {
     "data": {
      "text/html": [
       "<div>\n",
       "<style scoped>\n",
       "    .dataframe tbody tr th:only-of-type {\n",
       "        vertical-align: middle;\n",
       "    }\n",
       "\n",
       "    .dataframe tbody tr th {\n",
       "        vertical-align: top;\n",
       "    }\n",
       "\n",
       "    .dataframe thead th {\n",
       "        text-align: right;\n",
       "    }\n",
       "</style>\n",
       "<table border=\"1\" class=\"dataframe\">\n",
       "  <thead>\n",
       "    <tr style=\"text-align: right;\">\n",
       "      <th></th>\n",
       "      <th>Measurement</th>\n",
       "      <th>Value</th>\n",
       "    </tr>\n",
       "  </thead>\n",
       "  <tbody>\n",
       "    <tr>\n",
       "      <th>0</th>\n",
       "      <td>Equatorial Diameter:</td>\n",
       "      <td>6,792 km</td>\n",
       "    </tr>\n",
       "    <tr>\n",
       "      <th>1</th>\n",
       "      <td>Polar Diameter:</td>\n",
       "      <td>6,752 km</td>\n",
       "    </tr>\n",
       "    <tr>\n",
       "      <th>2</th>\n",
       "      <td>Mass:</td>\n",
       "      <td>6.39 × 10^23 kg (0.11 Earths)</td>\n",
       "    </tr>\n",
       "    <tr>\n",
       "      <th>3</th>\n",
       "      <td>Moons:</td>\n",
       "      <td>2 (Phobos &amp; Deimos)</td>\n",
       "    </tr>\n",
       "    <tr>\n",
       "      <th>4</th>\n",
       "      <td>Orbit Distance:</td>\n",
       "      <td>227,943,824 km (1.38 AU)</td>\n",
       "    </tr>\n",
       "    <tr>\n",
       "      <th>5</th>\n",
       "      <td>Orbit Period:</td>\n",
       "      <td>687 days (1.9 years)</td>\n",
       "    </tr>\n",
       "    <tr>\n",
       "      <th>6</th>\n",
       "      <td>Surface Temperature:</td>\n",
       "      <td>-87 to -5 °C</td>\n",
       "    </tr>\n",
       "    <tr>\n",
       "      <th>7</th>\n",
       "      <td>First Record:</td>\n",
       "      <td>2nd millennium BC</td>\n",
       "    </tr>\n",
       "    <tr>\n",
       "      <th>8</th>\n",
       "      <td>Recorded By:</td>\n",
       "      <td>Egyptian astronomers</td>\n",
       "    </tr>\n",
       "  </tbody>\n",
       "</table>\n",
       "</div>"
      ],
      "text/plain": [
       "            Measurement                          Value\n",
       "0  Equatorial Diameter:                       6,792 km\n",
       "1       Polar Diameter:                       6,752 km\n",
       "2                 Mass:  6.39 × 10^23 kg (0.11 Earths)\n",
       "3                Moons:            2 (Phobos & Deimos)\n",
       "4       Orbit Distance:       227,943,824 km (1.38 AU)\n",
       "5         Orbit Period:           687 days (1.9 years)\n",
       "6  Surface Temperature:                   -87 to -5 °C\n",
       "7         First Record:              2nd millennium BC\n",
       "8          Recorded By:           Egyptian astronomers"
      ]
     },
     "execution_count": 25,
     "metadata": {},
     "output_type": "execute_result"
    }
   ],
   "source": [
    "mars_df = mars_df.rename(\n",
    "    columns={0: \"Measurement\", 1: \"Value\"})\n",
    "mars_df"
   ]
  },
  {
   "cell_type": "code",
   "execution_count": 27,
   "metadata": {},
   "outputs": [],
   "source": [
    "mars_df.to_html('mars_data.html')"
   ]
  },
  {
   "cell_type": "markdown",
   "metadata": {},
   "source": [
    "## Hemispheres"
   ]
  },
  {
   "cell_type": "code",
   "execution_count": 30,
   "metadata": {},
   "outputs": [
    {
     "name": "stdout",
     "output_type": "stream",
     "text": [
      "<!DOCTYPE html>\n",
      "<html lang=\"en\">\n",
      " <head>\n",
      "  <link href=\"//ajax.googleapis.com/ajax/libs/jqueryui/1.11.3/themes/smoothness/jquery-ui.css\" rel=\"stylesheet\" type=\"text/css\"/>\n",
      "  <title>\n",
      "   Astropedia Search Results | USGS Astrogeology Science Center\n",
      "  </title>\n",
      "  <meta content=\"USGS Astrogeology Science Center Astropedia search results.\" name=\"description\"/>\n",
      "  <meta content=\"USGS,Astrogeology Science Center,Cartography,Geology,Space,Geological Survey,Mapping\" name=\"keywords\"/>\n",
      "  <meta content=\"IE=edge\" http-equiv=\"X-UA-Compatible\"/>\n",
      "  <meta content=\"text/html; charset=utf-8\" http-equiv=\"Content-Type\"/>\n",
      "  <meta content=\"width=device-width, initial-scale=1, maximum-scale=1\" name=\"viewport\"/>\n",
      "  <meta content=\"x61hXXVj7wtfBSNOPnTftajMsZ5yB2W-qRoyr7GtOKM\" name=\"google-site-verification\"/>\n",
      "  <!--<link rel=\"stylesheet\" href=\"http://fonts.googleapis.com/css?family=Open+Sans:400italic,400,bold\"/>-->\n",
      "  <link href=\"/css/main.css\" media=\"screen\" rel=\"stylesheet\"/>\n",
      "  <link href=\"/css/print.css\" media=\"print\" rel=\"stylesheet\"/>\n",
      "  <!--[if lt IE 9]>\n",
      "\t\t\t<script src=\"http://html5shiv.googlecode.com/svn/trunk/html5.js\"></script>\n",
      "\t\t\t<script src=\"/js/respond.min.js\"></script>\n",
      "\t\t\t<link rel=\"stylesheet\" type=\"text/css\" href=\"/css/ie.css\"/>\n",
      "                        <script>\n",
      "                          document.createElement('header');\n",
      "                          document.createElement('nav');\n",
      "                          document.createElement('section');\n",
      "                          document.createElement('article');\n",
      "                          document.createElement('aside');\n",
      "                          document.createElement('footer');\n",
      "                          document.createElement('hgroup');\n",
      "                        </script>\n",
      "                  <![endif]-->\n",
      "  <link href=\"/favicon.ico\" rel=\"icon\" type=\"image/x-ico\"/>\n",
      " </head>\n",
      " <body id=\"results\">\n",
      "  <header>\n",
      "   <!--\n",
      "\t\t\t<h1>Astrogeology Science Center</h1>\n",
      "-->\n",
      "   <a href=\"https://www.usgs.gov/centers/astrogeo-sc\" style=\"float:right;margin-top:10px;\" target=\"_blank\">\n",
      "    <img alt=\"USGS: Science for a Changing World\" class=\"logo\" height=\"60\" src=\"/images/usgs_logo_main_2x.png\"/>\n",
      "   </a>\n",
      "   <a href=\"https://nasa.gov\" style=\"float:right;margin-top:5px;margin-right:20px;\" target=\"_blank\">\n",
      "    <img alt=\"NASA\" class=\"logo\" height=\"65\" src=\"/images/logos/nasa-logo-web-med.png\"/>\n",
      "   </a>\n",
      "   <a href=\"https://www.usgs.gov/centers/astrogeology-science-center/science/pds-cartography-and-imaging-sciences-node-usgs\" style=\"float:right;margin-top:5px;margin-right: 10px;\" target=\"_blank\">\n",
      "    <img alt=\"PDS Cartography and Imaging Science Node\" class=\"logo\" height=\"65\" src=\"/images/pds_logo-invisible-web.png\"/>\n",
      "   </a>\n",
      "  </header>\n",
      "  <div class=\"wrapper\">\n",
      "   <!--\n",
      "\t\t\t<nav>\n",
      "\t\t\t\t<a id=\"nav-toggle\" href=\"#\" title=\"Navigation Menu\">Menu</a>\n",
      "<ul class=\"dropdown dropdown-horizontal\" id=\"yw0\">\n",
      "<li><a href=\"/\">Home</a></li>\n",
      "<li><a href=\"/about\">About</a>\n",
      "<ul>\n",
      "<li><a href=\"/about/careers\">Careers</a></li>\n",
      "<li><a href=\"/contact\">Contact</a></li>\n",
      "<li><a href=\"/about/events\">Events</a></li>\n",
      "<li><a href=\"/site/glossary\">Glossary</a></li>\n",
      "<li><a href=\"/about/mission\">Mission</a></li>\n",
      "<li><a href=\"/news\">News</a></li>\n",
      "<li><a href=\"/people\">People</a></li>\n",
      "<li><a href=\"/about/using-our-images\">Using Our Images</a></li>\n",
      "<li><a href=\"/about/visitors\">Visitors</a></li>\n",
      "</ul>\n",
      "</li>\n",
      "<li><a href=\"/facilities\">Labs / Facilities</a>\n",
      "<ul>\n",
      "<li><a href=\"/facilities/flynn-creek-crater-sample-collection\">Flynn Creek Crater Sample Collection</a></li>\n",
      "<li><a href=\"http://www.moon-cal.org\">Lunar Calibration Project</a></li>\n",
      "<li><a href=\"/facilities/meteor-crater-sample-collection\">Meteor Crater Sample Collection</a></li>\n",
      "<li><a href=\"/facilities/mrctr\">MRCTR GIS Lab</a></li>\n",
      "<li><a href=\"/facilities/cartography-and-imaging-sciences-node-of-nasa-planetary-data-system\">PDS Cartography and Imaging Sciences Node</a></li>\n",
      "<li><a href=\"/pds/annex\">PDS IMG Annex</a></li>\n",
      "<li><a href=\"/facilities/photogrammetry-guest-facility\">Photogrammetry Guest Facility</a></li>\n",
      "<li><a href=\"/rpif\">Regional Planetary Information Facility (RPIF)</a></li>\n",
      "</ul>\n",
      "</li>\n",
      "<li><a href=\"/maps\">Maps / Products</a>\n",
      "<ul>\n",
      "<li><a href=\"/search\">Product Search</a></li>\n",
      "<li><a href=\"http://planetarynames.wr.usgs.gov\">Gazetteer of Planetary Nomenclature</a></li>\n",
      "<li><a href=\"http://planetarymapping.wr.usgs.gov\">Geologic Mapping Program</a></li>\n",
      "<li><a href=\"http://pilot.wr.usgs.gov\">Planetary Image Locator Tool (PILOT)</a></li>\n",
      "<li><a href=\"/search/planetary-index\">Planetary Map Index</a></li>\n",
      "</ul>\n",
      "</li>\n",
      "<li><a href=\"/geology\">Missions / Research</a>\n",
      "<ul>\n",
      "<li><a href=\"/geology/mars-dunes\">Mars Dunes</a></li>\n",
      "<li><a href=\"/geology/mars-ice\">Mars Ice</a></li>\n",
      "<li><a href=\"/missions\">Mission Support</a></li>\n",
      "<li><a href=\"/solar-system\">Solar System</a></li>\n",
      "<li><a href=\"/groups\">Working Groups</a></li>\n",
      "</ul>\n",
      "</li>\n",
      "<li><a href=\"/tools\">Tools</a>\n",
      "<ul>\n",
      "<li><a href=\"http://planetarynames.wr.usgs.gov\">Gazetteer of Planetary Nomenclature</a></li>\n",
      "<li><a href=\"http://isis.astrogeology.usgs.gov\">Integrated Software for Imagers and Spectrometers (ISIS)</a></li>\n",
      "<li><a href=\"http://astrogeology.usgs.gov/tools/map\">Map a Planet 2</a></li>\n",
      "<li><a href=\"http://pilot.wr.usgs.gov\">Planetary Image Locator Tool (PILOT)</a></li>\n",
      "<li><a href=\"http://astrocloud.wr.usgs.gov/\">Projection on the Web (POW)</a></li>\n",
      "</ul>\n",
      "</li>\n",
      "</ul>\t\t\t\t<form id=\"search\" class=\"search\" action=\"/search/results\" method=\"get\">\n",
      "\t\t\t\t\t<input type=\"submit\" value=\"\" title=\"Search Astropedia\"/>\n",
      "\t\t\t\t\t<input type=\"text\" placeholder=\"Search\" name=\"q\"/>\n",
      "\t\t\t\t</form>\n",
      "\t\t\t</nav>\n",
      "-->\n",
      "   <div class=\"container\">\n",
      "    <div class=\"widget block bar\">\n",
      "     <a href=\"/search\" style=\"float:right;text-decoration:none;\">\n",
      "      <img alt=\"Astropedia\" src=\"/images/astropedia/astropedia-logo-main.png\" style=\"width:200px;border:none;float:right;\"/>\n",
      "      <div style=\"clear:both;font-size:.8em;float:right;color:#888;\">\n",
      "       Lunar and Planetary Cartographic Catalog\n",
      "      </div>\n",
      "     </a>\n",
      "     <div style=\"float:left;height:60px;\">\n",
      "     </div>\n",
      "    </div>\n",
      "    <form action=\"/search/results\" class=\"bar widget block\" id=\"search-bar\">\n",
      "     <input name=\"q\" type=\"hidden\" value=\"hemisphere-enhanced\"/>\n",
      "     <input name=\"target\" type=\"hidden\" value=\"Mars\"/>\n",
      "     <input name=\"__ncforminfo\" type=\"hidden\" value=\"VgrPOSY3225WsWcIgTsHGKND4wacmGbVqBujQZ08o9KazHTkzcjRO7swNvyKj4Ckp5l46xEC6Hy0su6slgFW3YHXwx38DIBUODAdtAFb3cklIuGYRfuPVw==\"/>\n",
      "    </form>\n",
      "    <div class=\"full-content\">\n",
      "     <section class=\"block\" id=\"results-accordian\">\n",
      "      <div class=\"result-list\" data-section=\"product\" id=\"product-section\">\n",
      "       <div class=\"accordian\">\n",
      "        <h2>\n",
      "         Products\n",
      "        </h2>\n",
      "        <span class=\"count\">\n",
      "         4 Results\n",
      "        </span>\n",
      "        <span class=\"collapse\">\n",
      "         Collapse\n",
      "        </span>\n",
      "       </div>\n",
      "       <div class=\"collapsible results\">\n",
      "        <div class=\"item\">\n",
      "         <a class=\"itemLink product-item\" href=\"/search/map/Mars/Viking/cerberus_enhanced\">\n",
      "          <img alt=\"Cerberus Hemisphere Enhanced thumbnail\" class=\"thumb\" src=\"/cache/images/39d3266553462198bd2fbc4d18fbed17_cerberus_enhanced.tif_thumb.png\"/>\n",
      "          <div class=\"description\">\n",
      "           <h3>\n",
      "            Cerberus Hemisphere Enhanced\n",
      "           </h3>\n",
      "          </div>\n",
      "         </a>\n",
      "         <span class=\"subtitle\" style=\"float:left\">\n",
      "          image/tiff 21 MB\n",
      "         </span>\n",
      "         <span class=\"pubDate\" style=\"float:right\">\n",
      "         </span>\n",
      "         <br/>\n",
      "         <p>\n",
      "          Mosaic of the Cerberus hemisphere of Mars projected into point perspective, a view similar to that which one would see from a spacecraft. This mosaic is composed of 104 Viking Orbiter images acquired…\n",
      "         </p>\n",
      "        </div>\n",
      "        <!-- end description -->\n",
      "       </div>\n",
      "       <div class=\"item\">\n",
      "        <a class=\"itemLink product-item\" href=\"/search/map/Mars/Viking/schiaparelli_enhanced\">\n",
      "         <img alt=\"Schiaparelli Hemisphere Enhanced thumbnail\" class=\"thumb\" src=\"/cache/images/08eac6e22c07fb1fe72223a79252de20_schiaparelli_enhanced.tif_thumb.png\"/>\n",
      "         <div class=\"description\">\n",
      "          <h3>\n",
      "           Schiaparelli Hemisphere Enhanced\n",
      "          </h3>\n",
      "         </div>\n",
      "        </a>\n",
      "        <span class=\"subtitle\" style=\"float:left\">\n",
      "         image/tiff 35 MB\n",
      "        </span>\n",
      "        <span class=\"pubDate\" style=\"float:right\">\n",
      "        </span>\n",
      "        <br/>\n",
      "        <p>\n",
      "         Mosaic of the Schiaparelli hemisphere of Mars projected into point perspective, a view similar to that which one would see from a spacecraft. The images were acquired in 1980 during early northern…\n",
      "        </p>\n",
      "       </div>\n",
      "       <!-- end description -->\n",
      "      </div>\n",
      "      <div class=\"item\">\n",
      "       <a class=\"itemLink product-item\" href=\"/search/map/Mars/Viking/syrtis_major_enhanced\">\n",
      "        <img alt=\"Syrtis Major Hemisphere Enhanced thumbnail\" class=\"thumb\" src=\"/cache/images/55a0a1e2796313fdeafb17c35925e8ac_syrtis_major_enhanced.tif_thumb.png\"/>\n",
      "        <div class=\"description\">\n",
      "         <h3>\n",
      "          Syrtis Major Hemisphere Enhanced\n",
      "         </h3>\n",
      "        </div>\n",
      "       </a>\n",
      "       <span class=\"subtitle\" style=\"float:left\">\n",
      "        image/tiff 25 MB\n",
      "       </span>\n",
      "       <span class=\"pubDate\" style=\"float:right\">\n",
      "       </span>\n",
      "       <br/>\n",
      "       <p>\n",
      "        Mosaic of the Syrtis Major hemisphere of Mars projected into point perspective, a view similar to that which one would see from a spacecraft. This mosaic is composed of about 100 red and violet…\n",
      "       </p>\n",
      "      </div>\n",
      "      <!-- end description -->\n",
      "     </section>\n",
      "    </div>\n",
      "    <div class=\"item\">\n",
      "     <a class=\"itemLink product-item\" href=\"/search/map/Mars/Viking/valles_marineris_enhanced\">\n",
      "      <img alt=\"Valles Marineris Hemisphere Enhanced thumbnail\" class=\"thumb\" src=\"/cache/images/4e59980c1c57f89c680c0e1ccabbeff1_valles_marineris_enhanced.tif_thumb.png\"/>\n",
      "      <div class=\"description\">\n",
      "       <h3>\n",
      "        Valles Marineris Hemisphere Enhanced\n",
      "       </h3>\n",
      "      </div>\n",
      "     </a>\n",
      "     <span class=\"subtitle\" style=\"float:left\">\n",
      "      image/tiff 27 MB\n",
      "     </span>\n",
      "     <span class=\"pubDate\" style=\"float:right\">\n",
      "     </span>\n",
      "     <br/>\n",
      "     <p>\n",
      "      Mosaic of the Valles Marineris hemisphere of Mars projected into point perspective, a view similar to that which one would see from a spacecraft. The distance is 2500 kilometers from the surface of…\n",
      "     </p>\n",
      "    </div>\n",
      "    <!-- end description -->\n",
      "   </div>\n",
      "   <script>\n",
      "    addBases=[];;if(typeof resetLayerSwitcher===\"function\"){resetLayerSwitcher(false)};var productTotal = 4;\n",
      "   </script>\n",
      "  </div>\n",
      "  <!-- end this-section -->\n",
      "  <div class=\"icons projects black scroll-wrapper\">\n",
      "   <div class=\"scroll\">\n",
      "    <a class=\"icon\" href=\"http://isis.astrogeology.usgs.gov\" title=\"Integrated Software for Imagers and Spectrometers\">\n",
      "     <img alt=\"ISIS Logo\" height=\"112\" src=\"/images/logos/isis_2x.jpg\" width=\"112\">\n",
      "      <span class=\"label\">\n",
      "       ISIS\n",
      "      </span>\n",
      "     </img>\n",
      "    </a>\n",
      "    <a class=\"icon\" href=\"http://planetarynames.wr.usgs.gov\" title=\"Gazetteer of Planetary Nomenclature\">\n",
      "     <img alt=\"Nomenclature Logo\" height=\"112\" src=\"/images/logos/nomenclature_2x.jpg\" width=\"112\">\n",
      "      <span class=\"label\">\n",
      "       Planetary Nomenclature\n",
      "      </span>\n",
      "     </img>\n",
      "    </a>\n",
      "    <a class=\"icon\" href=\"https://astrogeology.usgs.gov/tools/map-a-planet-2\" title=\"Map a Planet 2\">\n",
      "     <img alt=\"Map-a-Planet Logo\" height=\"112\" src=\"/images/logos/map_a_planet_2x.jpg\" width=\"112\">\n",
      "      <span class=\"label\">\n",
      "       Map a Planet 2\n",
      "      </span>\n",
      "     </img>\n",
      "    </a>\n",
      "    <a class=\"icon\" href=\"https://www.usgs.gov/centers/astrogeo-sc/science/cartography-and-imaging-sciences-node-nasa-planetary-data-system\" title=\"PDS Cartography and Imaging Science Node\">\n",
      "     <img alt=\"PDS Logo\" height=\"112\" src=\"/images/pds_logo-black-web.png\">\n",
      "      <span class=\"label\">\n",
      "       PDS Cartography and Imaging Science Node\n",
      "      </span>\n",
      "     </img>\n",
      "    </a>\n",
      "    <!--\n",
      "\t\t\t\t\t\t<a title=\"Astropedia Search\" href=\"/search\" class=\"icon\">\n",
      "\t\t\t\t\t\t\t<img alt=\"Astropedia Logo\" height=\"112\" width=\"112\" src=\"/images/logos/astropedia_2x.jpg\"/>\n",
      "\t\t\t\t\t\t\t<span class=\"label\">Astropedia</span>\n",
      "\t\t\t\t\t\t</a>\n",
      "-->\n",
      "    <a class=\"icon\" href=\"https://www.usgs.gov/centers/astrogeo-sc/science/regional-planetary-image-facility-rpif\" title=\"Regional Planetary Image Facility\">\n",
      "     <img alt=\"RPIF Logo\" height=\"112\" src=\"/images/logos/rpif_2x.jpg\" width=\"112\"/>\n",
      "     <span class=\"label\">\n",
      "      RPIF\n",
      "     </span>\n",
      "    </a>\n",
      "    <a class=\"icon\" href=\"\" title=\"Photogrammetry Guest Facility\">\n",
      "     <img alt=\"Photogrammetry Guest Faciltiy Logo\" height=\"112\" src=\"/images/logos/photogrammetry_2x.jpg\" width=\"112\"/>\n",
      "     <span class=\"label\">\n",
      "      Photogrammetry Guest Facility\n",
      "     </span>\n",
      "    </a>\n",
      "    <a class=\"icon\" href=\"http://pilot.wr.usgs.gov\" title=\"Planetary Image Locator Tool\">\n",
      "     <img alt=\"Pilot Logo\" height=\"112\" src=\"/images/logos/pilot_2x.jpg\" width=\"112\"/>\n",
      "     <span class=\"label\">\n",
      "      PILOT\n",
      "     </span>\n",
      "    </a>\n",
      "    <a class=\"icon\" href=\"https://www.usgs.gov/centers/astrogeo-sc/science/mrctr-gis-lab\" title=\"Mapping, Remote-sensing, Cartography, Technology and Research GIS Lab\">\n",
      "     <img alt=\"MRCTR GIS Lab Logo\" height=\"112\" src=\"/images/logos/mrctr_man_2x.png\" width=\"112\"/>\n",
      "     <span class=\"label\">\n",
      "      MRCTR GIS Lab\n",
      "     </span>\n",
      "    </a>\n",
      "   </div>\n",
      "  </div>\n",
      "  <footer>\n",
      "   <div class=\"left\">\n",
      "    <a href=\"./search\">\n",
      "     Search\n",
      "    </a>\n",
      "    |\n",
      "    <a href=\"http://astrogeology.usgs.gov/maps/about\">\n",
      "     About\n",
      "    </a>\n",
      "    |\n",
      "    <a href=\"http://astrogeology.usgs.gov/maps/contact\">\n",
      "     Contact\n",
      "    </a>\n",
      "   </div>\n",
      "   <div class=\"right\">\n",
      "    <a href=\"https://www.usgs.gov/centers/astrogeo-sc\">\n",
      "     USGS Astrogeology Science Center\n",
      "    </a>\n",
      "   </div>\n",
      "  </footer>\n",
      "  <!--\n",
      "\t\t<div class=\"credit\">\n",
      "\t\t\t<small>Background Credits: NASA/USGS</small>\n",
      "\t\t</div>\n",
      "-->\n",
      "  <div class=\"page-background\" style=\"\n",
      "\t\t\tbackground:url('/images/backgrounds/mars.jpg');\n",
      "\t\t\tfilter:progid:DXImageTransform.Microsoft.AlphaImageLoader(\n",
      "\t\t\t\tsrc='/images/backgrounds/mars.jpg', sizingMethod='scale');\n",
      "\t\t\">\n",
      "  </div>\n",
      "  <script type=\"text/javascript\">\n",
      "   var baseUrl = \"\";\n",
      "\n",
      "/*\n",
      "var _gaq = _gaq || [];_gaq.push(['_setAccount', 'UA-27613186-1']);_gaq.push(['_trackPageview']);(function() { var ga = document.createElement('script'); ga.type = 'text/javascript'; ga.async = true;ga.src = ('https:' == document.location.protocol ? 'https://ssl' : 'http://www') + '.google-analytics.com/ga.js'; var s = document.getElementsByTagName('script')[0]; s.parentNode.insertBefore(ga, s);})();\n",
      "*/\n",
      "  </script>\n",
      "  <script src=\"https://ajax.googleapis.com/ajax/libs/jquery/1.11.1/jquery.min.js\" type=\"text/javascript\">\n",
      "  </script>\n",
      "  <script src=\"//ajax.googleapis.com/ajax/libs/jqueryui/1.11.3/jquery-ui.min.js\" type=\"text/javascript\">\n",
      "  </script>\n",
      "  <script src=\"/js/general.js\" type=\"text/javascript\">\n",
      "  </script>\n",
      " </body>\n",
      "</html>\n",
      "\n"
     ]
    }
   ],
   "source": [
    "# visit the USGS astrogeology page for hemisphere data from Mars\n",
    "hemisphere_url = 'https://astrogeology.usgs.gov/search/results?q=hemisphere+enhanced&k1=target&v1=Mars'\n",
    "response = requests.get(hemisphere_url)\n",
    "response.text\n",
    "soup = BeautifulSoup(response.text, 'html.parser')\n",
    "print(soup.prettify())"
   ]
  },
  {
   "cell_type": "code",
   "execution_count": 65,
   "metadata": {},
   "outputs": [
    {
     "data": {
      "text/plain": [
       "[<a class=\"itemLink product-item\" href=\"/search/map/Mars/Viking/cerberus_enhanced\"><img alt=\"Cerberus Hemisphere Enhanced thumbnail\" class=\"thumb\" src=\"/cache/images/39d3266553462198bd2fbc4d18fbed17_cerberus_enhanced.tif_thumb.png\"/><div class=\"description\"><h3>Cerberus Hemisphere Enhanced</h3></div></a>,\n",
       " <a class=\"itemLink product-item\" href=\"/search/map/Mars/Viking/schiaparelli_enhanced\"><img alt=\"Schiaparelli Hemisphere Enhanced thumbnail\" class=\"thumb\" src=\"/cache/images/08eac6e22c07fb1fe72223a79252de20_schiaparelli_enhanced.tif_thumb.png\"/><div class=\"description\"><h3>Schiaparelli Hemisphere Enhanced</h3></div></a>,\n",
       " <a class=\"itemLink product-item\" href=\"/search/map/Mars/Viking/syrtis_major_enhanced\"><img alt=\"Syrtis Major Hemisphere Enhanced thumbnail\" class=\"thumb\" src=\"/cache/images/55a0a1e2796313fdeafb17c35925e8ac_syrtis_major_enhanced.tif_thumb.png\"/><div class=\"description\"><h3>Syrtis Major Hemisphere Enhanced</h3></div></a>,\n",
       " <a class=\"itemLink product-item\" href=\"/search/map/Mars/Viking/valles_marineris_enhanced\"><img alt=\"Valles Marineris Hemisphere Enhanced thumbnail\" class=\"thumb\" src=\"/cache/images/4e59980c1c57f89c680c0e1ccabbeff1_valles_marineris_enhanced.tif_thumb.png\"/><div class=\"description\"><h3>Valles Marineris Hemisphere Enhanced</h3></div></a>]"
      ]
     },
     "execution_count": 65,
     "metadata": {},
     "output_type": "execute_result"
    }
   ],
   "source": [
    "#extract href for each hemisphere img link\n",
    "results = soup.find_all('a', class_=\"itemLink product-item\")\n",
    "results"
   ]
  },
  {
   "cell_type": "code",
   "execution_count": 68,
   "metadata": {},
   "outputs": [
    {
     "data": {
      "text/plain": [
       "[<h3>Cerberus Hemisphere Enhanced</h3>,\n",
       " <h3>Schiaparelli Hemisphere Enhanced</h3>,\n",
       " <h3>Syrtis Major Hemisphere Enhanced</h3>,\n",
       " <h3>Valles Marineris Hemisphere Enhanced</h3>]"
      ]
     },
     "execution_count": 68,
     "metadata": {},
     "output_type": "execute_result"
    }
   ],
   "source": [
    "hemisphere_name = soup.find_all('h3')\n",
    "hemisphere_name"
   ]
  },
  {
   "cell_type": "code",
   "execution_count": 88,
   "metadata": {},
   "outputs": [
    {
     "name": "stdout",
     "output_type": "stream",
     "text": [
      "['Cerberus Hemisphere Enhanced']\n",
      "['https://astropedia.astrogeology.usgs.gov/download/Mars/Viking/cerberus_enhanced.tif']\n",
      "['Cerberus Hemisphere Enhanced', 'Schiaparelli Hemisphere Enhanced']\n",
      "['https://astropedia.astrogeology.usgs.gov/download/Mars/Viking/cerberus_enhanced.tif', 'https://astropedia.astrogeology.usgs.gov/download/Mars/Viking/schiaparelli_enhanced.tif']\n",
      "['Cerberus Hemisphere Enhanced', 'Schiaparelli Hemisphere Enhanced', 'Syrtis Major Hemisphere Enhanced']\n",
      "['https://astropedia.astrogeology.usgs.gov/download/Mars/Viking/cerberus_enhanced.tif', 'https://astropedia.astrogeology.usgs.gov/download/Mars/Viking/schiaparelli_enhanced.tif', 'https://astropedia.astrogeology.usgs.gov/download/Mars/Viking/syrtis_major_enhanced.tif']\n",
      "['Cerberus Hemisphere Enhanced', 'Schiaparelli Hemisphere Enhanced', 'Syrtis Major Hemisphere Enhanced', 'Valles Marineris Hemisphere Enhanced']\n",
      "['https://astropedia.astrogeology.usgs.gov/download/Mars/Viking/cerberus_enhanced.tif', 'https://astropedia.astrogeology.usgs.gov/download/Mars/Viking/schiaparelli_enhanced.tif', 'https://astropedia.astrogeology.usgs.gov/download/Mars/Viking/syrtis_major_enhanced.tif', 'https://astropedia.astrogeology.usgs.gov/download/Mars/Viking/valles_marineris_enhanced.tif']\n"
     ]
    }
   ],
   "source": [
    "hemisphere_anchors = soup.find_all('a', class_=\"itemLink product-item\")\n",
    "hemisphere_name = []\n",
    "hemisphere_link = []\n",
    "\n",
    "for anchor in hemisphere_anchors:\n",
    "    hemisphere_name.append(anchor.text)\n",
    "    hemisphere_link.append(f\"https://astropedia.astrogeology.usgs.gov/download/Mars/Viking/{anchor['href'].split('/')[5]}.tif\")\n",
    "    print(hemisphere_name)\n",
    "    print(hemisphere_link)"
   ]
  }
 ],
 "metadata": {
  "kernel_info": {
   "name": "work"
  },
  "kernelspec": {
   "display_name": "Python 3",
   "language": "python",
   "name": "python3"
  },
  "language_info": {
   "codemirror_mode": {
    "name": "ipython",
    "version": 3
   },
   "file_extension": ".py",
   "mimetype": "text/x-python",
   "name": "python",
   "nbconvert_exporter": "python",
   "pygments_lexer": "ipython3",
   "version": "3.8.5"
  },
  "nteract": {
   "version": "0.15.0"
  }
 },
 "nbformat": 4,
 "nbformat_minor": 4
}
